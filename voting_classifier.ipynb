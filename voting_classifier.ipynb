{
  "nbformat": 4,
  "nbformat_minor": 0,
  "metadata": {
    "colab": {
      "name": "voting_classifier.ipynb",
      "version": "0.3.2",
      "provenance": [],
      "collapsed_sections": [],
      "include_colab_link": true
    },
    "kernelspec": {
      "name": "python2",
      "display_name": "Python 2"
    },
    "accelerator": "GPU"
  },
  "cells": [
    {
      "cell_type": "markdown",
      "metadata": {
        "id": "view-in-github",
        "colab_type": "text"
      },
      "source": [
        "[View in Colaboratory](https://colab.research.google.com/github/kayfay/ml_sklearn_ageron/blob/master/voting_classifier.ipynb)"
      ]
    },
    {
      "metadata": {
        "id": "aR8mMW1sev1X",
        "colab_type": "code",
        "colab": {}
      },
      "cell_type": "code",
      "source": [
        "# Ensemble classifier using hard/soft voting composing of a\n",
        "# multilayer perceptron, forests, and a linear support vectors.\n",
        "# Create a stacking ensemble blending the ensemble predictions\n",
        "\n",
        "# Common Imports\n",
        "import numpy as np\n",
        "\n",
        "# ML Imports\n",
        "\n",
        "# Data Imports\n",
        "from sklearn.datasets import fetch_mldata\n",
        "from sklearn.model_selection import train_test_split\n",
        "# Classifier Imports\n",
        "from sklearn.ensemble import RandomForestClassifier, ExtraTreesClassifier\n",
        "from sklearn.ensemble import VotingClassifier\n",
        "from sklearn.svm import LinearSVC\n",
        "from sklearn.neural_network import MLPClassifier\n",
        "# Metric Imports\n",
        "from sklearn.metrics import accuracy_score\n",
        "\n",
        "\n",
        "# Declare Functions\n",
        "def display_estimators(clf_list, score_list):\n",
        "    for i, j, in zip(clf_list, score_list):\n",
        "        print(\"Estimator:\", i)\n",
        "        print(\"Estimator:\", j)"
      ],
      "execution_count": 0,
      "outputs": []
    },
    {
      "metadata": {
        "id": "NxoAxf40ev1k",
        "colab_type": "code",
        "colab": {}
      },
      "cell_type": "code",
      "source": [
        "# Create training, test, and validation sets\n",
        "mnist = fetch_mldata(\"MNIST original\")\n",
        "\n",
        "X_train_val, X_test, y_train_val, y_test = train_test_split(\n",
        "    mnist.data, mnist.target, test_size=10000, random_state=42)\n",
        "\n",
        "X_train, X_val, y_train, y_val = train_test_split(\n",
        "    X_train_val, y_train_val, test_size=10000, random_state=42)"
      ],
      "execution_count": 0,
      "outputs": []
    },
    {
      "metadata": {
        "id": "6PPBysOgev1p",
        "colab_type": "code",
        "colab": {}
      },
      "cell_type": "code",
      "source": [
        "# Instantiate models\n",
        "random_forest_clf = RandomForestClassifier(random_state=42)\n",
        "extra_tree_clf = ExtraTreesClassifier(random_state=42)\n",
        "svm_clf = LinearSVC(random_state=42)\n",
        "mlp_clf = MLPClassifier(random_state=42)\n",
        "\n",
        "named_estimators = [\n",
        "    (\"random_forest_clf\", random_forest_clf),\n",
        "    (\"extra_tree_clf\", extra_tree_clf),\n",
        "    (\"svm_clf\", svm_clf),\n",
        "    (\"mlp_clf\", mlp_clf),\n",
        "]\n",
        "\n",
        "voting_clf = VotingClassifier(named_estimators)"
      ],
      "execution_count": 0,
      "outputs": []
    },
    {
      "metadata": {
        "id": "BjZOnA0-ev1t",
        "colab_type": "code",
        "colab": {
          "base_uri": "https://localhost:8080/",
          "height": 476
        },
        "outputId": "e379eb0b-3ee0-4987-88c5-ea006806f668"
      },
      "cell_type": "code",
      "source": [
        "# Fit the Voting classifier\n",
        "voting_clf.fit(X_train, y_train)\n",
        "\n",
        "# Train models\n",
        "estimators = [random_forest_clf, extra_tree_clf, svm_clf, mlp_clf]\n",
        "for estimator in estimators:\n",
        "    estimator.fit(X_train, y_train)\n",
        "\n",
        "scores = [estimator.score(X_val, y_val) for estimator in estimators]\n",
        "display_estimators(estimators, scores)"
      ],
      "execution_count": 4,
      "outputs": [
        {
          "output_type": "stream",
          "text": [
            "('Estimator:', RandomForestClassifier(bootstrap=True, class_weight=None, criterion='gini',\n",
            "            max_depth=None, max_features='auto', max_leaf_nodes=None,\n",
            "            min_impurity_decrease=0.0, min_impurity_split=None,\n",
            "            min_samples_leaf=1, min_samples_split=2,\n",
            "            min_weight_fraction_leaf=0.0, n_estimators=10, n_jobs=1,\n",
            "            oob_score=False, random_state=42, verbose=0, warm_start=False))\n",
            "('Estimator:', 0.9467)\n",
            "('Estimator:', ExtraTreesClassifier(bootstrap=False, class_weight=None, criterion='gini',\n",
            "           max_depth=None, max_features='auto', max_leaf_nodes=None,\n",
            "           min_impurity_decrease=0.0, min_impurity_split=None,\n",
            "           min_samples_leaf=1, min_samples_split=2,\n",
            "           min_weight_fraction_leaf=0.0, n_estimators=10, n_jobs=1,\n",
            "           oob_score=False, random_state=42, verbose=0, warm_start=False))\n",
            "('Estimator:', 0.9512)\n",
            "('Estimator:', LinearSVC(C=1.0, class_weight=None, dual=True, fit_intercept=True,\n",
            "     intercept_scaling=1, loss='squared_hinge', max_iter=1000,\n",
            "     multi_class='ovr', penalty='l2', random_state=42, tol=0.0001,\n",
            "     verbose=0))\n",
            "('Estimator:', 0.8661)\n",
            "('Estimator:', MLPClassifier(activation='relu', alpha=0.0001, batch_size='auto', beta_1=0.9,\n",
            "       beta_2=0.999, early_stopping=False, epsilon=1e-08,\n",
            "       hidden_layer_sizes=(100,), learning_rate='constant',\n",
            "       learning_rate_init=0.001, max_iter=200, momentum=0.9,\n",
            "       nesterovs_momentum=True, power_t=0.5, random_state=42, shuffle=True,\n",
            "       solver='adam', tol=0.0001, validation_fraction=0.1, verbose=False,\n",
            "       warm_start=False))\n",
            "('Estimator:', 0.9529)\n"
          ],
          "name": "stdout"
        }
      ]
    },
    {
      "metadata": {
        "id": "cMdPIxFRev1y",
        "colab_type": "code",
        "colab": {
          "base_uri": "https://localhost:8080/",
          "height": 493
        },
        "outputId": "7c8b4633-ff01-4010-bed3-7b6acbaee9a2"
      },
      "cell_type": "code",
      "source": [
        "# Remove SVC\n",
        "print(\"Without the LinearSVC\")\n",
        "voting_clf.set_params(svm_clf=None)\n",
        "\n",
        "scores = [estimator.score(X_val, y_val) for estimator in estimators]\n",
        "display_estimators(estimators, scores)\n",
        "\n",
        "del voting_clf.estimators_[2]"
      ],
      "execution_count": 5,
      "outputs": [
        {
          "output_type": "stream",
          "text": [
            "Without the LinearSVC\n",
            "('Estimator:', RandomForestClassifier(bootstrap=True, class_weight=None, criterion='gini',\n",
            "            max_depth=None, max_features='auto', max_leaf_nodes=None,\n",
            "            min_impurity_decrease=0.0, min_impurity_split=None,\n",
            "            min_samples_leaf=1, min_samples_split=2,\n",
            "            min_weight_fraction_leaf=0.0, n_estimators=10, n_jobs=1,\n",
            "            oob_score=False, random_state=42, verbose=0, warm_start=False))\n",
            "('Estimator:', 0.9467)\n",
            "('Estimator:', ExtraTreesClassifier(bootstrap=False, class_weight=None, criterion='gini',\n",
            "           max_depth=None, max_features='auto', max_leaf_nodes=None,\n",
            "           min_impurity_decrease=0.0, min_impurity_split=None,\n",
            "           min_samples_leaf=1, min_samples_split=2,\n",
            "           min_weight_fraction_leaf=0.0, n_estimators=10, n_jobs=1,\n",
            "           oob_score=False, random_state=42, verbose=0, warm_start=False))\n",
            "('Estimator:', 0.9512)\n",
            "('Estimator:', LinearSVC(C=1.0, class_weight=None, dual=True, fit_intercept=True,\n",
            "     intercept_scaling=1, loss='squared_hinge', max_iter=1000,\n",
            "     multi_class='ovr', penalty='l2', random_state=42, tol=0.0001,\n",
            "     verbose=0))\n",
            "('Estimator:', 0.8661)\n",
            "('Estimator:', MLPClassifier(activation='relu', alpha=0.0001, batch_size='auto', beta_1=0.9,\n",
            "       beta_2=0.999, early_stopping=False, epsilon=1e-08,\n",
            "       hidden_layer_sizes=(100,), learning_rate='constant',\n",
            "       learning_rate_init=0.001, max_iter=200, momentum=0.9,\n",
            "       nesterovs_momentum=True, power_t=0.5, random_state=42, shuffle=True,\n",
            "       solver='adam', tol=0.0001, validation_fraction=0.1, verbose=False,\n",
            "       warm_start=False))\n",
            "('Estimator:', 0.9529)\n"
          ],
          "name": "stdout"
        }
      ]
    },
    {
      "metadata": {
        "id": "kQFNkj_9ev14",
        "colab_type": "code",
        "colab": {
          "base_uri": "https://localhost:8080/",
          "height": 139
        },
        "outputId": "dc67ba75-6c85-4b38-bc56-3738517859e2"
      },
      "cell_type": "code",
      "source": [
        "# Set show soft v hard voting classification\n",
        "hard = voting_clf.score(X_val, y_val)\n",
        "voting_clf.voting = \"soft\"\n",
        "soft = voting_clf.score(X_val, y_val)\n",
        "\n",
        "print(\"Hard voting score compared to Softvoting score\")\n",
        "print(\"Hard: {}, Soft: {}\".format(hard, soft))"
      ],
      "execution_count": 6,
      "outputs": [
        {
          "output_type": "stream",
          "text": [
            "Hard voting score compared to Softvoting score\n",
            "Hard: 0.9644, Soft: 0.9664\n"
          ],
          "name": "stdout"
        },
        {
          "output_type": "stream",
          "text": [
            "/usr/local/lib/python2.7/dist-packages/sklearn/preprocessing/label.py:151: DeprecationWarning: The truth value of an empty array is ambiguous. Returning False, but in future this will result in an error. Use `array.size > 0` to check that an array is not empty.\n",
            "  if diff:\n",
            "/usr/local/lib/python2.7/dist-packages/sklearn/preprocessing/label.py:151: DeprecationWarning: The truth value of an empty array is ambiguous. Returning False, but in future this will result in an error. Use `array.size > 0` to check that an array is not empty.\n",
            "  if diff:\n"
          ],
          "name": "stderr"
        }
      ]
    },
    {
      "metadata": {
        "id": "y72VrbDWev18",
        "colab_type": "code",
        "colab": {
          "base_uri": "https://localhost:8080/",
          "height": 119
        },
        "outputId": "f48008c0-1a14-4066-d978-6fb342f58f0b"
      },
      "cell_type": "code",
      "source": [
        "# Generate predictions using the estimators for a stacking ensemble\n",
        "X_val_predictions = np.empty((len(X_val), len(estimators)), dtype=np.float32)\n",
        "\n",
        "for index, estimator in enumerate(estimators):\n",
        "    X_val_predictions[:, index] = estimator.predict(X_val)\n",
        "\n",
        "rnd_forest_blender = RandomForestClassifier(\n",
        "    n_estimators=200, oob_score=True, random_state=42)\n",
        "rnd_forest_blender.fit(X_val_predictions, y_val)"
      ],
      "execution_count": 7,
      "outputs": [
        {
          "output_type": "execute_result",
          "data": {
            "text/plain": [
              "RandomForestClassifier(bootstrap=True, class_weight=None, criterion='gini',\n",
              "            max_depth=None, max_features='auto', max_leaf_nodes=None,\n",
              "            min_impurity_decrease=0.0, min_impurity_split=None,\n",
              "            min_samples_leaf=1, min_samples_split=2,\n",
              "            min_weight_fraction_leaf=0.0, n_estimators=200, n_jobs=1,\n",
              "            oob_score=True, random_state=42, verbose=0, warm_start=False)"
            ]
          },
          "metadata": {
            "tags": []
          },
          "execution_count": 7
        }
      ]
    },
    {
      "metadata": {
        "id": "03usFFfIev2C",
        "colab_type": "code",
        "colab": {
          "base_uri": "https://localhost:8080/",
          "height": 68
        },
        "outputId": "e463b0e1-a0ef-422c-87b0-a02a83eae9da"
      },
      "cell_type": "code",
      "source": [
        "# Evaluate on the test set\n",
        "X_test_predictions = np.empty((len(X_test), len(estimators)), dtype=np.float32)\n",
        "\n",
        "for index, estimator in enumerate(estimators):\n",
        "    X_test_predictions[:, index] = estimator.predict(X_test)\n",
        "\n",
        "y_pred = rnd_forest_blender.predict(X_test_predictions)\n",
        "\n",
        "# Stacking prediction ensembles\n",
        "print(\"Stacking ensemble predictions\")\n",
        "print(\"OOB CV Training Accuracy score:{}\".format(\n",
        "    rnd_forest_blender.oob_score_))\n",
        "print(\"Test accuracy score:{}\".format(accuracy_score(y_test, y_pred)))"
      ],
      "execution_count": 8,
      "outputs": [
        {
          "output_type": "stream",
          "text": [
            "Stacking ensemble predictions\n",
            "OOB CV Training Accuracy score:0.9607\n",
            "Test accuracy score:0.9577\n"
          ],
          "name": "stdout"
        }
      ]
    }
  ]
}